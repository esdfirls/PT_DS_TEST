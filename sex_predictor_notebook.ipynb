{
 "cells": [
  {
   "cell_type": "markdown",
   "id": "cc7d75d0",
   "metadata": {},
   "source": [
    "## Importing Libraries"
   ]
  },
  {
   "cell_type": "code",
   "execution_count": 407,
   "id": "36e8600b",
   "metadata": {},
   "outputs": [],
   "source": [
    "# Dataframe & Array\n",
    "import pandas as pd\n",
    "import numpy as np\n",
    "# Data Visualization\n",
    "import matplotlib.pyplot as plt\n",
    "import seaborn as sns\n",
    "\n",
    "#Notebook Adjusts\n",
    "%config Completer.use_jedi = False\n",
    "%matplotlib inline\n",
    "\n",
    "#Preprocessing\n",
    "from sklearn.preprocessing import LabelEncoder, StandardScaler\n",
    "\n",
    "#Split & Cross-validation\n",
    "from sklearn.model_selection import train_test_split, cross_val_score, cross_val_predict, StratifiedKFold\n",
    "\n",
    "#Models\n",
    "from sklearn.tree import DecisionTreeClassifier\n",
    "from sklearn.svm import SVC\n",
    "from sklearn.naive_bayes import GaussianNB\n",
    "from sklearn.neighbors import KNeighborsClassifier\n",
    "from sklearn.ensemble import RandomForestClassifier, AdaBoostClassifier, GradientBoostingClassifier\n",
    "from sklearn.neural_network import MLPClassifier\n",
    "\n",
    "#Metrics\n",
    "from sklearn.metrics import classification_report, confusion_matrix, accuracy_score"
   ]
  },
  {
   "cell_type": "markdown",
   "id": "df85981b",
   "metadata": {},
   "source": [
    "## Reading data and looking at the values"
   ]
  },
  {
   "cell_type": "code",
   "execution_count": 624,
   "id": "14351274",
   "metadata": {},
   "outputs": [],
   "source": [
    "data = pd.read_csv('test_data_CANDIDATE.csv')"
   ]
  },
  {
   "cell_type": "code",
   "execution_count": 337,
   "id": "7b083819",
   "metadata": {},
   "outputs": [
    {
     "data": {
      "text/html": [
       "<div>\n",
       "<style scoped>\n",
       "    .dataframe tbody tr th:only-of-type {\n",
       "        vertical-align: middle;\n",
       "    }\n",
       "\n",
       "    .dataframe tbody tr th {\n",
       "        vertical-align: top;\n",
       "    }\n",
       "\n",
       "    .dataframe thead th {\n",
       "        text-align: right;\n",
       "    }\n",
       "</style>\n",
       "<table border=\"1\" class=\"dataframe\">\n",
       "  <thead>\n",
       "    <tr style=\"text-align: right;\">\n",
       "      <th></th>\n",
       "      <th>index</th>\n",
       "      <th>age</th>\n",
       "      <th>sex</th>\n",
       "      <th>cp</th>\n",
       "      <th>trestbps</th>\n",
       "      <th>chol</th>\n",
       "      <th>fbs</th>\n",
       "      <th>restecg</th>\n",
       "      <th>thalach</th>\n",
       "      <th>exang</th>\n",
       "      <th>oldpeak</th>\n",
       "      <th>slope</th>\n",
       "      <th>ca</th>\n",
       "      <th>thal</th>\n",
       "      <th>nar</th>\n",
       "      <th>hc</th>\n",
       "      <th>sk</th>\n",
       "      <th>trf</th>\n",
       "    </tr>\n",
       "  </thead>\n",
       "  <tbody>\n",
       "    <tr>\n",
       "      <th>0</th>\n",
       "      <td>0</td>\n",
       "      <td>49</td>\n",
       "      <td>M</td>\n",
       "      <td>10000</td>\n",
       "      <td>130</td>\n",
       "      <td>269.0</td>\n",
       "      <td>0</td>\n",
       "      <td>1</td>\n",
       "      <td>163</td>\n",
       "      <td>0</td>\n",
       "      <td>0.0</td>\n",
       "      <td>2.0</td>\n",
       "      <td>0</td>\n",
       "      <td>2</td>\n",
       "      <td>2</td>\n",
       "      <td>0</td>\n",
       "      <td>1</td>\n",
       "      <td>6797.761892</td>\n",
       "    </tr>\n",
       "    <tr>\n",
       "      <th>1</th>\n",
       "      <td>1</td>\n",
       "      <td>61</td>\n",
       "      <td>F</td>\n",
       "      <td>10000</td>\n",
       "      <td>138</td>\n",
       "      <td>166.0</td>\n",
       "      <td>0</td>\n",
       "      <td>0</td>\n",
       "      <td>125</td>\n",
       "      <td>1</td>\n",
       "      <td>3.6</td>\n",
       "      <td>NaN</td>\n",
       "      <td>1</td>\n",
       "      <td>2</td>\n",
       "      <td>2</td>\n",
       "      <td>1</td>\n",
       "      <td>3</td>\n",
       "      <td>4307.686943</td>\n",
       "    </tr>\n",
       "    <tr>\n",
       "      <th>2</th>\n",
       "      <td>2</td>\n",
       "      <td>46</td>\n",
       "      <td>F</td>\n",
       "      <td>10000</td>\n",
       "      <td>140</td>\n",
       "      <td>311.0</td>\n",
       "      <td>0</td>\n",
       "      <td>1</td>\n",
       "      <td>120</td>\n",
       "      <td>1</td>\n",
       "      <td>1.8</td>\n",
       "      <td>NaN</td>\n",
       "      <td>2</td>\n",
       "      <td>3</td>\n",
       "      <td>2</td>\n",
       "      <td>0</td>\n",
       "      <td>1</td>\n",
       "      <td>4118.077502</td>\n",
       "    </tr>\n",
       "    <tr>\n",
       "      <th>3</th>\n",
       "      <td>3</td>\n",
       "      <td>69</td>\n",
       "      <td>F</td>\n",
       "      <td>10000</td>\n",
       "      <td>140</td>\n",
       "      <td>254.0</td>\n",
       "      <td>0</td>\n",
       "      <td>0</td>\n",
       "      <td>146</td>\n",
       "      <td>0</td>\n",
       "      <td>2.0</td>\n",
       "      <td>1.0</td>\n",
       "      <td>3</td>\n",
       "      <td>3</td>\n",
       "      <td>2</td>\n",
       "      <td>1</td>\n",
       "      <td>0</td>\n",
       "      <td>7170.849469</td>\n",
       "    </tr>\n",
       "    <tr>\n",
       "      <th>4</th>\n",
       "      <td>4</td>\n",
       "      <td>51</td>\n",
       "      <td>F</td>\n",
       "      <td>10000</td>\n",
       "      <td>100</td>\n",
       "      <td>222.0</td>\n",
       "      <td>0</td>\n",
       "      <td>1</td>\n",
       "      <td>143</td>\n",
       "      <td>1</td>\n",
       "      <td>1.2</td>\n",
       "      <td>1.0</td>\n",
       "      <td>0</td>\n",
       "      <td>2</td>\n",
       "      <td>2</td>\n",
       "      <td>1</td>\n",
       "      <td>0</td>\n",
       "      <td>5579.040145</td>\n",
       "    </tr>\n",
       "  </tbody>\n",
       "</table>\n",
       "</div>"
      ],
      "text/plain": [
       "   index  age sex     cp  trestbps   chol  fbs  restecg  thalach  exang  \\\n",
       "0      0   49   M  10000       130  269.0    0        1      163      0   \n",
       "1      1   61   F  10000       138  166.0    0        0      125      1   \n",
       "2      2   46   F  10000       140  311.0    0        1      120      1   \n",
       "3      3   69   F  10000       140  254.0    0        0      146      0   \n",
       "4      4   51   F  10000       100  222.0    0        1      143      1   \n",
       "\n",
       "   oldpeak  slope  ca  thal  nar  hc  sk          trf  \n",
       "0      0.0    2.0   0     2    2   0   1  6797.761892  \n",
       "1      3.6    NaN   1     2    2   1   3  4307.686943  \n",
       "2      1.8    NaN   2     3    2   0   1  4118.077502  \n",
       "3      2.0    1.0   3     3    2   1   0  7170.849469  \n",
       "4      1.2    1.0   0     2    2   1   0  5579.040145  "
      ]
     },
     "execution_count": 337,
     "metadata": {},
     "output_type": "execute_result"
    }
   ],
   "source": [
    "data.head()"
   ]
  },
  {
   "cell_type": "code",
   "execution_count": 338,
   "id": "f7d88d89",
   "metadata": {},
   "outputs": [
    {
     "name": "stdout",
     "output_type": "stream",
     "text": [
      "<class 'pandas.core.frame.DataFrame'>\n",
      "RangeIndex: 288 entries, 0 to 287\n",
      "Data columns (total 18 columns):\n",
      " #   Column    Non-Null Count  Dtype  \n",
      "---  ------    --------------  -----  \n",
      " 0   index     288 non-null    int64  \n",
      " 1   age       288 non-null    int64  \n",
      " 2   sex       288 non-null    object \n",
      " 3   cp        288 non-null    int64  \n",
      " 4   trestbps  288 non-null    int64  \n",
      " 5   chol      272 non-null    float64\n",
      " 6   fbs       288 non-null    int64  \n",
      " 7   restecg   288 non-null    int64  \n",
      " 8   thalach   288 non-null    int64  \n",
      " 9   exang     288 non-null    int64  \n",
      " 10  oldpeak   288 non-null    float64\n",
      " 11  slope     145 non-null    float64\n",
      " 12  ca        288 non-null    int64  \n",
      " 13  thal      288 non-null    int64  \n",
      " 14  nar       288 non-null    int64  \n",
      " 15  hc        288 non-null    int64  \n",
      " 16  sk        288 non-null    int64  \n",
      " 17  trf       288 non-null    float64\n",
      "dtypes: float64(4), int64(13), object(1)\n",
      "memory usage: 40.6+ KB\n"
     ]
    }
   ],
   "source": [
    "data.info()"
   ]
  },
  {
   "cell_type": "markdown",
   "id": "9221e698",
   "metadata": {},
   "source": [
    "Sex = object, chol and slope have missing values"
   ]
  },
  {
   "cell_type": "markdown",
   "id": "a0954b19",
   "metadata": {},
   "source": [
    "## Unique values in each column"
   ]
  },
  {
   "cell_type": "code",
   "execution_count": 339,
   "id": "9eda23a0",
   "metadata": {},
   "outputs": [
    {
     "data": {
      "text/plain": [
       "index       288\n",
       "age          41\n",
       "sex           4\n",
       "cp            1\n",
       "trestbps     48\n",
       "chol        149\n",
       "fbs           2\n",
       "restecg       3\n",
       "thalach      90\n",
       "exang         2\n",
       "oldpeak      40\n",
       "slope         3\n",
       "ca            5\n",
       "thal          4\n",
       "nar           3\n",
       "hc            3\n",
       "sk            4\n",
       "trf         288\n",
       "dtype: int64"
      ]
     },
     "execution_count": 339,
     "metadata": {},
     "output_type": "execute_result"
    }
   ],
   "source": [
    "data.nunique()"
   ]
  },
  {
   "cell_type": "markdown",
   "id": "c5518850",
   "metadata": {},
   "source": [
    "## 4 unique values for 'sex', lets see that"
   ]
  },
  {
   "cell_type": "code",
   "execution_count": 340,
   "id": "5fe8b0b5",
   "metadata": {},
   "outputs": [
    {
     "data": {
      "text/plain": [
       "array(['M', 'F', 'm', 'f'], dtype=object)"
      ]
     },
     "execution_count": 340,
     "metadata": {},
     "output_type": "execute_result"
    }
   ],
   "source": [
    "data['sex'].unique()"
   ]
  },
  {
   "cell_type": "markdown",
   "id": "91a891b6",
   "metadata": {},
   "source": [
    "## Replacing lower case to upper case."
   ]
  },
  {
   "cell_type": "code",
   "execution_count": 635,
   "id": "ee79aae2",
   "metadata": {},
   "outputs": [
    {
     "data": {
      "text/plain": [
       "array(['M', 'F'], dtype=object)"
      ]
     },
     "execution_count": 635,
     "metadata": {},
     "output_type": "execute_result"
    }
   ],
   "source": [
    "data['sex'] = data['sex'].replace({'m':'M','f':'F'})\n",
    "data['sex'].unique()"
   ]
  },
  {
   "cell_type": "code",
   "execution_count": 636,
   "id": "2426f446",
   "metadata": {},
   "outputs": [],
   "source": [
    "le = LabelEncoder()"
   ]
  },
  {
   "cell_type": "markdown",
   "id": "ec958234",
   "metadata": {},
   "source": [
    "## Changing categorical variables to numeric variables"
   ]
  },
  {
   "cell_type": "code",
   "execution_count": 637,
   "id": "6717811d",
   "metadata": {},
   "outputs": [
    {
     "data": {
      "text/plain": [
       "array([1, 0])"
      ]
     },
     "execution_count": 637,
     "metadata": {},
     "output_type": "execute_result"
    }
   ],
   "source": [
    "data['sex'] = le.fit_transform(data['sex'])\n",
    "data['sex'].unique()"
   ]
  },
  {
   "cell_type": "markdown",
   "id": "db4c546d",
   "metadata": {},
   "source": [
    "## Data encoded, 1 for male, 0 for female"
   ]
  },
  {
   "cell_type": "code",
   "execution_count": 344,
   "id": "de25ebc9",
   "metadata": {},
   "outputs": [
    {
     "data": {
      "text/plain": [
       "array([10000], dtype=int64)"
      ]
     },
     "execution_count": 344,
     "metadata": {},
     "output_type": "execute_result"
    }
   ],
   "source": [
    "data['cp'].unique()"
   ]
  },
  {
   "cell_type": "code",
   "execution_count": 345,
   "id": "1b5e8837",
   "metadata": {},
   "outputs": [
    {
     "data": {
      "text/plain": [
       "index         0\n",
       "age           0\n",
       "sex           0\n",
       "cp            0\n",
       "trestbps      0\n",
       "chol         16\n",
       "fbs           0\n",
       "restecg       0\n",
       "thalach       0\n",
       "exang         0\n",
       "oldpeak       0\n",
       "slope       143\n",
       "ca            0\n",
       "thal          0\n",
       "nar           0\n",
       "hc            0\n",
       "sk            0\n",
       "trf           0\n",
       "dtype: int64"
      ]
     },
     "execution_count": 345,
     "metadata": {},
     "output_type": "execute_result"
    }
   ],
   "source": [
    "data.isnull().sum()"
   ]
  },
  {
   "cell_type": "markdown",
   "id": "34794878",
   "metadata": {},
   "source": [
    "## The data is showing some problems and missing values, i'll remove index, slope, cp and adjust chol to better visualization."
   ]
  },
  {
   "cell_type": "code",
   "execution_count": 346,
   "id": "67e245f9",
   "metadata": {},
   "outputs": [
    {
     "name": "stdout",
     "output_type": "stream",
     "text": [
      "<class 'pandas.core.frame.DataFrame'>\n",
      "RangeIndex: 288 entries, 0 to 287\n",
      "Data columns (total 15 columns):\n",
      " #   Column    Non-Null Count  Dtype  \n",
      "---  ------    --------------  -----  \n",
      " 0   age       288 non-null    int64  \n",
      " 1   sex       288 non-null    int32  \n",
      " 2   trestbps  288 non-null    int64  \n",
      " 3   chol      272 non-null    float64\n",
      " 4   fbs       288 non-null    int64  \n",
      " 5   restecg   288 non-null    int64  \n",
      " 6   thalach   288 non-null    int64  \n",
      " 7   exang     288 non-null    int64  \n",
      " 8   oldpeak   288 non-null    float64\n",
      " 9   ca        288 non-null    int64  \n",
      " 10  thal      288 non-null    int64  \n",
      " 11  nar       288 non-null    int64  \n",
      " 12  hc        288 non-null    int64  \n",
      " 13  sk        288 non-null    int64  \n",
      " 14  trf       288 non-null    float64\n",
      "dtypes: float64(3), int32(1), int64(11)\n",
      "memory usage: 32.8 KB\n"
     ]
    }
   ],
   "source": [
    "data.drop(['slope', 'cp', 'index'], axis=1, inplace=True)\n",
    "data.info()"
   ]
  },
  {
   "cell_type": "code",
   "execution_count": 347,
   "id": "b7980914",
   "metadata": {},
   "outputs": [
    {
     "data": {
      "text/plain": [
       "<AxesSubplot:ylabel='chol'>"
      ]
     },
     "execution_count": 347,
     "metadata": {},
     "output_type": "execute_result"
    },
    {
     "data": {
      "image/png": "[encoded data removed]",
      "text/plain": [
       "<Figure size 432x288 with 1 Axes>"
      ]
     },
     "metadata": {
      "needs_background": "light"
     },
     "output_type": "display_data"
    }
   ],
   "source": [
    "sns.boxplot(y= data['chol'])"
   ]
  },
  {
   "cell_type": "markdown",
   "id": "a8131ca8",
   "metadata": {},
   "source": [
    "## Removing big outliers"
   ]
  },
  {
   "cell_type": "code",
   "execution_count": 560,
   "id": "ecc43dcc",
   "metadata": {},
   "outputs": [
    {
     "data": {
      "text/html": [
       "<div>\n",
       "<style scoped>\n",
       "    .dataframe tbody tr th:only-of-type {\n",
       "        vertical-align: middle;\n",
       "    }\n",
       "\n",
       "    .dataframe tbody tr th {\n",
       "        vertical-align: top;\n",
       "    }\n",
       "\n",
       "    .dataframe thead th {\n",
       "        text-align: right;\n",
       "    }\n",
       "</style>\n",
       "<table border=\"1\" class=\"dataframe\">\n",
       "  <thead>\n",
       "    <tr style=\"text-align: right;\">\n",
       "      <th></th>\n",
       "      <th>age</th>\n",
       "      <th>sex</th>\n",
       "      <th>trestbps</th>\n",
       "      <th>chol</th>\n",
       "      <th>fbs</th>\n",
       "      <th>restecg</th>\n",
       "      <th>thalach</th>\n",
       "      <th>exang</th>\n",
       "      <th>oldpeak</th>\n",
       "      <th>ca</th>\n",
       "      <th>thal</th>\n",
       "      <th>nar</th>\n",
       "      <th>hc</th>\n",
       "      <th>sk</th>\n",
       "      <th>trf</th>\n",
       "    </tr>\n",
       "  </thead>\n",
       "  <tbody>\n",
       "  </tbody>\n",
       "</table>\n",
       "</div>"
      ],
      "text/plain": [
       "Empty DataFrame\n",
       "Columns: [age, sex, trestbps, chol, fbs, restecg, thalach, exang, oldpeak, ca, thal, nar, hc, sk, trf]\n",
       "Index: []"
      ]
     },
     "execution_count": 560,
     "metadata": {},
     "output_type": "execute_result"
    }
   ],
   "source": [
    "data[data['chol']> 400]"
   ]
  },
  {
   "cell_type": "code",
   "execution_count": 561,
   "id": "cec2ee62",
   "metadata": {},
   "outputs": [
    {
     "data": {
      "text/html": [
       "<div>\n",
       "<style scoped>\n",
       "    .dataframe tbody tr th:only-of-type {\n",
       "        vertical-align: middle;\n",
       "    }\n",
       "\n",
       "    .dataframe tbody tr th {\n",
       "        vertical-align: top;\n",
       "    }\n",
       "\n",
       "    .dataframe thead th {\n",
       "        text-align: right;\n",
       "    }\n",
       "</style>\n",
       "<table border=\"1\" class=\"dataframe\">\n",
       "  <thead>\n",
       "    <tr style=\"text-align: right;\">\n",
       "      <th></th>\n",
       "      <th>age</th>\n",
       "      <th>sex</th>\n",
       "      <th>trestbps</th>\n",
       "      <th>chol</th>\n",
       "      <th>fbs</th>\n",
       "      <th>restecg</th>\n",
       "      <th>thalach</th>\n",
       "      <th>exang</th>\n",
       "      <th>oldpeak</th>\n",
       "      <th>ca</th>\n",
       "      <th>thal</th>\n",
       "      <th>nar</th>\n",
       "      <th>hc</th>\n",
       "      <th>sk</th>\n",
       "      <th>trf</th>\n",
       "    </tr>\n",
       "  </thead>\n",
       "  <tbody>\n",
       "  </tbody>\n",
       "</table>\n",
       "</div>"
      ],
      "text/plain": [
       "Empty DataFrame\n",
       "Columns: [age, sex, trestbps, chol, fbs, restecg, thalach, exang, oldpeak, ca, thal, nar, hc, sk, trf]\n",
       "Index: []"
      ]
     },
     "execution_count": 561,
     "metadata": {},
     "output_type": "execute_result"
    }
   ],
   "source": [
    "data.drop(data[data['chol']> 400].index, inplace=True)\n",
    "data[data['chol']> 400]"
   ]
  },
  {
   "cell_type": "code",
   "execution_count": 562,
   "id": "3881fa64",
   "metadata": {},
   "outputs": [
    {
     "data": {
      "text/plain": [
       "<AxesSubplot:ylabel='chol'>"
      ]
     },
     "execution_count": 562,
     "metadata": {},
     "output_type": "execute_result"
    },
    {
     "data": {
      "image/png": "[encoded data removed]",
      "text/plain": [
       "<Figure size 432x288 with 1 Axes>"
      ]
     },
     "metadata": {
      "needs_background": "light"
     },
     "output_type": "display_data"
    }
   ],
   "source": [
    "sns.boxplot(y=data['chol'])"
   ]
  },
  {
   "cell_type": "markdown",
   "id": "a4a2de5d",
   "metadata": {},
   "source": [
    "## Replacing missing values to mean"
   ]
  },
  {
   "cell_type": "code",
   "execution_count": 565,
   "id": "8919156a",
   "metadata": {},
   "outputs": [
    {
     "data": {
      "text/plain": [
       "241.0"
      ]
     },
     "execution_count": 565,
     "metadata": {},
     "output_type": "execute_result"
    }
   ],
   "source": [
    "data['chol'].mean().round()"
   ]
  },
  {
   "cell_type": "code",
   "execution_count": 616,
   "id": "f2e751da",
   "metadata": {},
   "outputs": [],
   "source": [
    "data['chol'] = data['chol'].fillna(data['chol'].mean().round())"
   ]
  },
  {
   "cell_type": "code",
   "execution_count": 567,
   "id": "47a48ab8",
   "metadata": {},
   "outputs": [
    {
     "data": {
      "text/plain": [
       "age         0\n",
       "sex         0\n",
       "trestbps    0\n",
       "chol        0\n",
       "fbs         0\n",
       "restecg     0\n",
       "thalach     0\n",
       "exang       0\n",
       "oldpeak     0\n",
       "ca          0\n",
       "thal        0\n",
       "nar         0\n",
       "hc          0\n",
       "sk          0\n",
       "trf         0\n",
       "dtype: int64"
      ]
     },
     "execution_count": 567,
     "metadata": {},
     "output_type": "execute_result"
    }
   ],
   "source": [
    "data.isnull().sum()"
   ]
  },
  {
   "cell_type": "markdown",
   "id": "ca8e563a",
   "metadata": {},
   "source": [
    "## No more missing values"
   ]
  },
  {
   "cell_type": "code",
   "execution_count": 354,
   "id": "320ccf20",
   "metadata": {},
   "outputs": [
    {
     "data": {
      "text/plain": [
       "<AxesSubplot:ylabel='age'>"
      ]
     },
     "execution_count": 354,
     "metadata": {},
     "output_type": "execute_result"
    },
    {
     "data": {
      "image/png": "[encoded data removed]",
      "text/plain": [
       "<Figure size 432x288 with 1 Axes>"
      ]
     },
     "metadata": {
      "needs_background": "light"
     },
     "output_type": "display_data"
    }
   ],
   "source": [
    "sns.boxplot(y=data['age'])"
   ]
  },
  {
   "cell_type": "markdown",
   "id": "118f6d82",
   "metadata": {},
   "source": [
    "## Removing big outlier in trestbps"
   ]
  },
  {
   "cell_type": "code",
   "execution_count": 568,
   "id": "2892ac84",
   "metadata": {},
   "outputs": [
    {
     "data": {
      "text/plain": [
       "<AxesSubplot:ylabel='trestbps'>"
      ]
     },
     "execution_count": 568,
     "metadata": {},
     "output_type": "execute_result"
    },
    {
     "data": {
      "image/png": "[encoded data removed]",
      "text/plain": [
       "<Figure size 432x288 with 1 Axes>"
      ]
     },
     "metadata": {
      "needs_background": "light"
     },
     "output_type": "display_data"
    }
   ],
   "source": [
    "sns.boxplot(y=data['trestbps'])"
   ]
  },
  {
   "cell_type": "code",
   "execution_count": 569,
   "id": "89a04660",
   "metadata": {},
   "outputs": [
    {
     "data": {
      "text/html": [
       "<div>\n",
       "<style scoped>\n",
       "    .dataframe tbody tr th:only-of-type {\n",
       "        vertical-align: middle;\n",
       "    }\n",
       "\n",
       "    .dataframe tbody tr th {\n",
       "        vertical-align: top;\n",
       "    }\n",
       "\n",
       "    .dataframe thead th {\n",
       "        text-align: right;\n",
       "    }\n",
       "</style>\n",
       "<table border=\"1\" class=\"dataframe\">\n",
       "  <thead>\n",
       "    <tr style=\"text-align: right;\">\n",
       "      <th></th>\n",
       "      <th>age</th>\n",
       "      <th>sex</th>\n",
       "      <th>trestbps</th>\n",
       "      <th>chol</th>\n",
       "      <th>fbs</th>\n",
       "      <th>restecg</th>\n",
       "      <th>thalach</th>\n",
       "      <th>exang</th>\n",
       "      <th>oldpeak</th>\n",
       "      <th>ca</th>\n",
       "      <th>thal</th>\n",
       "      <th>nar</th>\n",
       "      <th>hc</th>\n",
       "      <th>sk</th>\n",
       "      <th>trf</th>\n",
       "    </tr>\n",
       "  </thead>\n",
       "  <tbody>\n",
       "  </tbody>\n",
       "</table>\n",
       "</div>"
      ],
      "text/plain": [
       "Empty DataFrame\n",
       "Columns: [age, sex, trestbps, chol, fbs, restecg, thalach, exang, oldpeak, ca, thal, nar, hc, sk, trf]\n",
       "Index: []"
      ]
     },
     "execution_count": 569,
     "metadata": {},
     "output_type": "execute_result"
    }
   ],
   "source": [
    "data[data['trestbps']> 180]"
   ]
  },
  {
   "cell_type": "code",
   "execution_count": 570,
   "id": "cba6e309",
   "metadata": {},
   "outputs": [
    {
     "data": {
      "text/html": [
       "<div>\n",
       "<style scoped>\n",
       "    .dataframe tbody tr th:only-of-type {\n",
       "        vertical-align: middle;\n",
       "    }\n",
       "\n",
       "    .dataframe tbody tr th {\n",
       "        vertical-align: top;\n",
       "    }\n",
       "\n",
       "    .dataframe thead th {\n",
       "        text-align: right;\n",
       "    }\n",
       "</style>\n",
       "<table border=\"1\" class=\"dataframe\">\n",
       "  <thead>\n",
       "    <tr style=\"text-align: right;\">\n",
       "      <th></th>\n",
       "      <th>age</th>\n",
       "      <th>sex</th>\n",
       "      <th>trestbps</th>\n",
       "      <th>chol</th>\n",
       "      <th>fbs</th>\n",
       "      <th>restecg</th>\n",
       "      <th>thalach</th>\n",
       "      <th>exang</th>\n",
       "      <th>oldpeak</th>\n",
       "      <th>ca</th>\n",
       "      <th>thal</th>\n",
       "      <th>nar</th>\n",
       "      <th>hc</th>\n",
       "      <th>sk</th>\n",
       "      <th>trf</th>\n",
       "    </tr>\n",
       "  </thead>\n",
       "  <tbody>\n",
       "  </tbody>\n",
       "</table>\n",
       "</div>"
      ],
      "text/plain": [
       "Empty DataFrame\n",
       "Columns: [age, sex, trestbps, chol, fbs, restecg, thalach, exang, oldpeak, ca, thal, nar, hc, sk, trf]\n",
       "Index: []"
      ]
     },
     "execution_count": 570,
     "metadata": {},
     "output_type": "execute_result"
    }
   ],
   "source": [
    "data.drop(data[data['trestbps']> 180].index, inplace=True)\n",
    "data[data['trestbps']> 180]"
   ]
  },
  {
   "cell_type": "code",
   "execution_count": 571,
   "id": "60ea0a60",
   "metadata": {},
   "outputs": [
    {
     "data": {
      "text/plain": [
       "<AxesSubplot:ylabel='trestbps'>"
      ]
     },
     "execution_count": 571,
     "metadata": {},
     "output_type": "execute_result"
    },
    {
     "data": {
      "image/png": "[encoded data removed]",
      "text/plain": [
       "<Figure size 432x288 with 1 Axes>"
      ]
     },
     "metadata": {
      "needs_background": "light"
     },
     "output_type": "display_data"
    }
   ],
   "source": [
    "sns.boxplot(y=data['trestbps'])"
   ]
  },
  {
   "cell_type": "code",
   "execution_count": 359,
   "id": "7a476df4",
   "metadata": {},
   "outputs": [
    {
     "data": {
      "text/plain": [
       "<AxesSubplot:ylabel='thalach'>"
      ]
     },
     "execution_count": 359,
     "metadata": {},
     "output_type": "execute_result"
    },
    {
     "data": {
      "image/png": "[encoded data removed]",
      "text/plain": [
       "<Figure size 432x288 with 1 Axes>"
      ]
     },
     "metadata": {
      "needs_background": "light"
     },
     "output_type": "display_data"
    }
   ],
   "source": [
    "sns.boxplot(y=data['thalach'])"
   ]
  },
  {
   "cell_type": "code",
   "execution_count": 360,
   "id": "ad7e7717",
   "metadata": {},
   "outputs": [
    {
     "data": {
      "text/html": [
       "<div>\n",
       "<style scoped>\n",
       "    .dataframe tbody tr th:only-of-type {\n",
       "        vertical-align: middle;\n",
       "    }\n",
       "\n",
       "    .dataframe tbody tr th {\n",
       "        vertical-align: top;\n",
       "    }\n",
       "\n",
       "    .dataframe thead th {\n",
       "        text-align: right;\n",
       "    }\n",
       "</style>\n",
       "<table border=\"1\" class=\"dataframe\">\n",
       "  <thead>\n",
       "    <tr style=\"text-align: right;\">\n",
       "      <th></th>\n",
       "      <th>age</th>\n",
       "      <th>sex</th>\n",
       "      <th>trestbps</th>\n",
       "      <th>chol</th>\n",
       "      <th>fbs</th>\n",
       "      <th>restecg</th>\n",
       "      <th>thalach</th>\n",
       "      <th>exang</th>\n",
       "      <th>oldpeak</th>\n",
       "      <th>ca</th>\n",
       "      <th>thal</th>\n",
       "      <th>nar</th>\n",
       "      <th>hc</th>\n",
       "      <th>sk</th>\n",
       "      <th>trf</th>\n",
       "    </tr>\n",
       "  </thead>\n",
       "  <tbody>\n",
       "    <tr>\n",
       "      <th>34</th>\n",
       "      <td>57</td>\n",
       "      <td>0</td>\n",
       "      <td>152</td>\n",
       "      <td>274.000000</td>\n",
       "      <td>0</td>\n",
       "      <td>1</td>\n",
       "      <td>88</td>\n",
       "      <td>1</td>\n",
       "      <td>1.2</td>\n",
       "      <td>1</td>\n",
       "      <td>3</td>\n",
       "      <td>2</td>\n",
       "      <td>0</td>\n",
       "      <td>0</td>\n",
       "      <td>6876.094262</td>\n",
       "    </tr>\n",
       "    <tr>\n",
       "      <th>62</th>\n",
       "      <td>62</td>\n",
       "      <td>1</td>\n",
       "      <td>130</td>\n",
       "      <td>263.000000</td>\n",
       "      <td>0</td>\n",
       "      <td>1</td>\n",
       "      <td>97</td>\n",
       "      <td>0</td>\n",
       "      <td>1.2</td>\n",
       "      <td>1</td>\n",
       "      <td>3</td>\n",
       "      <td>0</td>\n",
       "      <td>0</td>\n",
       "      <td>0</td>\n",
       "      <td>816.563826</td>\n",
       "    </tr>\n",
       "    <tr>\n",
       "      <th>80</th>\n",
       "      <td>60</td>\n",
       "      <td>1</td>\n",
       "      <td>120</td>\n",
       "      <td>178.000000</td>\n",
       "      <td>1</td>\n",
       "      <td>1</td>\n",
       "      <td>96</td>\n",
       "      <td>0</td>\n",
       "      <td>0.0</td>\n",
       "      <td>0</td>\n",
       "      <td>2</td>\n",
       "      <td>2</td>\n",
       "      <td>1</td>\n",
       "      <td>0</td>\n",
       "      <td>5837.747754</td>\n",
       "    </tr>\n",
       "    <tr>\n",
       "      <th>82</th>\n",
       "      <td>53</td>\n",
       "      <td>0</td>\n",
       "      <td>123</td>\n",
       "      <td>242.093284</td>\n",
       "      <td>0</td>\n",
       "      <td>1</td>\n",
       "      <td>95</td>\n",
       "      <td>1</td>\n",
       "      <td>2.0</td>\n",
       "      <td>2</td>\n",
       "      <td>3</td>\n",
       "      <td>2</td>\n",
       "      <td>2</td>\n",
       "      <td>0</td>\n",
       "      <td>5453.325899</td>\n",
       "    </tr>\n",
       "    <tr>\n",
       "      <th>109</th>\n",
       "      <td>64</td>\n",
       "      <td>0</td>\n",
       "      <td>120</td>\n",
       "      <td>246.000000</td>\n",
       "      <td>0</td>\n",
       "      <td>0</td>\n",
       "      <td>96</td>\n",
       "      <td>1</td>\n",
       "      <td>2.2</td>\n",
       "      <td>1</td>\n",
       "      <td>2</td>\n",
       "      <td>2</td>\n",
       "      <td>0</td>\n",
       "      <td>0</td>\n",
       "      <td>3523.936118</td>\n",
       "    </tr>\n",
       "    <tr>\n",
       "      <th>171</th>\n",
       "      <td>67</td>\n",
       "      <td>0</td>\n",
       "      <td>120</td>\n",
       "      <td>237.000000</td>\n",
       "      <td>0</td>\n",
       "      <td>1</td>\n",
       "      <td>71</td>\n",
       "      <td>0</td>\n",
       "      <td>1.0</td>\n",
       "      <td>0</td>\n",
       "      <td>2</td>\n",
       "      <td>2</td>\n",
       "      <td>1</td>\n",
       "      <td>2</td>\n",
       "      <td>6531.542587</td>\n",
       "    </tr>\n",
       "    <tr>\n",
       "      <th>174</th>\n",
       "      <td>59</td>\n",
       "      <td>0</td>\n",
       "      <td>164</td>\n",
       "      <td>176.000000</td>\n",
       "      <td>1</td>\n",
       "      <td>0</td>\n",
       "      <td>90</td>\n",
       "      <td>0</td>\n",
       "      <td>1.0</td>\n",
       "      <td>2</td>\n",
       "      <td>1</td>\n",
       "      <td>2</td>\n",
       "      <td>0</td>\n",
       "      <td>0</td>\n",
       "      <td>5377.998222</td>\n",
       "    </tr>\n",
       "    <tr>\n",
       "      <th>205</th>\n",
       "      <td>62</td>\n",
       "      <td>0</td>\n",
       "      <td>120</td>\n",
       "      <td>267.000000</td>\n",
       "      <td>0</td>\n",
       "      <td>1</td>\n",
       "      <td>99</td>\n",
       "      <td>1</td>\n",
       "      <td>1.8</td>\n",
       "      <td>2</td>\n",
       "      <td>3</td>\n",
       "      <td>2</td>\n",
       "      <td>1</td>\n",
       "      <td>2</td>\n",
       "      <td>6848.362946</td>\n",
       "    </tr>\n",
       "  </tbody>\n",
       "</table>\n",
       "</div>"
      ],
      "text/plain": [
       "     age  sex  trestbps        chol  fbs  restecg  thalach  exang  oldpeak  \\\n",
       "34    57    0       152  274.000000    0        1       88      1      1.2   \n",
       "62    62    1       130  263.000000    0        1       97      0      1.2   \n",
       "80    60    1       120  178.000000    1        1       96      0      0.0   \n",
       "82    53    0       123  242.093284    0        1       95      1      2.0   \n",
       "109   64    0       120  246.000000    0        0       96      1      2.2   \n",
       "171   67    0       120  237.000000    0        1       71      0      1.0   \n",
       "174   59    0       164  176.000000    1        0       90      0      1.0   \n",
       "205   62    0       120  267.000000    0        1       99      1      1.8   \n",
       "\n",
       "     ca  thal  nar  hc  sk          trf  \n",
       "34    1     3    2   0   0  6876.094262  \n",
       "62    1     3    0   0   0   816.563826  \n",
       "80    0     2    2   1   0  5837.747754  \n",
       "82    2     3    2   2   0  5453.325899  \n",
       "109   1     2    2   0   0  3523.936118  \n",
       "171   0     2    2   1   2  6531.542587  \n",
       "174   2     1    2   0   0  5377.998222  \n",
       "205   2     3    2   1   2  6848.362946  "
      ]
     },
     "execution_count": 360,
     "metadata": {},
     "output_type": "execute_result"
    }
   ],
   "source": [
    "data[data['thalach']< 100]"
   ]
  },
  {
   "cell_type": "code",
   "execution_count": 361,
   "id": "28676fea",
   "metadata": {},
   "outputs": [
    {
     "data": {
      "text/plain": [
       "<AxesSubplot:ylabel='oldpeak'>"
      ]
     },
     "execution_count": 361,
     "metadata": {},
     "output_type": "execute_result"
    },
    {
     "data": {
      "image/png": "[encoded data removed]",
      "text/plain": [
       "<Figure size 432x288 with 1 Axes>"
      ]
     },
     "metadata": {
      "needs_background": "light"
     },
     "output_type": "display_data"
    }
   ],
   "source": [
    "sns.boxplot(y=data['oldpeak'])"
   ]
  },
  {
   "cell_type": "markdown",
   "id": "ecf20e52",
   "metadata": {},
   "source": [
    "## Removing big outlier from oldpeak"
   ]
  },
  {
   "cell_type": "code",
   "execution_count": 362,
   "id": "b5b2c46f",
   "metadata": {},
   "outputs": [
    {
     "data": {
      "text/html": [
       "<div>\n",
       "<style scoped>\n",
       "    .dataframe tbody tr th:only-of-type {\n",
       "        vertical-align: middle;\n",
       "    }\n",
       "\n",
       "    .dataframe tbody tr th {\n",
       "        vertical-align: top;\n",
       "    }\n",
       "\n",
       "    .dataframe thead th {\n",
       "        text-align: right;\n",
       "    }\n",
       "</style>\n",
       "<table border=\"1\" class=\"dataframe\">\n",
       "  <thead>\n",
       "    <tr style=\"text-align: right;\">\n",
       "      <th></th>\n",
       "      <th>age</th>\n",
       "      <th>sex</th>\n",
       "      <th>trestbps</th>\n",
       "      <th>chol</th>\n",
       "      <th>fbs</th>\n",
       "      <th>restecg</th>\n",
       "      <th>thalach</th>\n",
       "      <th>exang</th>\n",
       "      <th>oldpeak</th>\n",
       "      <th>ca</th>\n",
       "      <th>thal</th>\n",
       "      <th>nar</th>\n",
       "      <th>hc</th>\n",
       "      <th>sk</th>\n",
       "      <th>trf</th>\n",
       "    </tr>\n",
       "  </thead>\n",
       "  <tbody>\n",
       "  </tbody>\n",
       "</table>\n",
       "</div>"
      ],
      "text/plain": [
       "Empty DataFrame\n",
       "Columns: [age, sex, trestbps, chol, fbs, restecg, thalach, exang, oldpeak, ca, thal, nar, hc, sk, trf]\n",
       "Index: []"
      ]
     },
     "execution_count": 362,
     "metadata": {},
     "output_type": "execute_result"
    }
   ],
   "source": [
    "data.drop(data[data['oldpeak']>4].index, inplace=True)\n",
    "data[data['oldpeak']>4]"
   ]
  },
  {
   "cell_type": "code",
   "execution_count": 363,
   "id": "4841a768",
   "metadata": {},
   "outputs": [
    {
     "data": {
      "text/plain": [
       "<AxesSubplot:ylabel='oldpeak'>"
      ]
     },
     "execution_count": 363,
     "metadata": {},
     "output_type": "execute_result"
    },
    {
     "data": {
      "image/png": "[encoded data removed]",
      "text/plain": [
       "<Figure size 432x288 with 1 Axes>"
      ]
     },
     "metadata": {
      "needs_background": "light"
     },
     "output_type": "display_data"
    }
   ],
   "source": [
    "sns.boxplot(y=data['oldpeak'])"
   ]
  },
  {
   "cell_type": "code",
   "execution_count": 364,
   "id": "8713a26b",
   "metadata": {},
   "outputs": [
    {
     "data": {
      "text/plain": [
       "<AxesSubplot:ylabel='trf'>"
      ]
     },
     "execution_count": 364,
     "metadata": {},
     "output_type": "execute_result"
    },
    {
     "data": {
      "image/png": "[encoded data removed]",
      "text/plain": [
       "<Figure size 432x288 with 1 Axes>"
      ]
     },
     "metadata": {
      "needs_background": "light"
     },
     "output_type": "display_data"
    }
   ],
   "source": [
    "sns.boxplot(y=data['trf'])"
   ]
  },
  {
   "cell_type": "code",
   "execution_count": 365,
   "id": "d069c6fa",
   "metadata": {},
   "outputs": [
    {
     "data": {
      "text/plain": [
       "<AxesSubplot:>"
      ]
     },
     "execution_count": 365,
     "metadata": {},
     "output_type": "execute_result"
    },
    {
     "data": {
      "image/png": "[encoded data removed]",
      "text/plain": [
       "<Figure size 1440x720 with 2 Axes>"
      ]
     },
     "metadata": {
      "needs_background": "light"
     },
     "output_type": "display_data"
    }
   ],
   "source": [
    "plt.figure(figsize=(20,10))\n",
    "sns.heatmap(data.corr(), annot=True)"
   ]
  },
  {
   "cell_type": "code",
   "execution_count": 366,
   "id": "7aab875b",
   "metadata": {},
   "outputs": [
    {
     "name": "stderr",
     "output_type": "stream",
     "text": [
      "c:\\users\\aheng\\anaconda3\\envs\\portaltelemedicina\\lib\\site-packages\\seaborn\\_decorators.py:43: FutureWarning: Pass the following variables as keyword args: x, y. From version 0.12, the only valid positional argument will be `data`, and passing other arguments without an explicit keyword will result in an error or misinterpretation.\n",
      "  FutureWarning\n"
     ]
    },
    {
     "data": {
      "text/plain": [
       "<seaborn.axisgrid.FacetGrid at 0x18f0ff17160>"
      ]
     },
     "execution_count": 366,
     "metadata": {},
     "output_type": "execute_result"
    },
    {
     "data": {
      "text/plain": [
       "<Figure size 1440x720 with 0 Axes>"
      ]
     },
     "metadata": {},
     "output_type": "display_data"
    },
    {
     "data": {
      "image/png": "[encoded data removed]",
      "text/plain": [
       "<Figure size 360x360 with 1 Axes>"
      ]
     },
     "metadata": {
      "needs_background": "light"
     },
     "output_type": "display_data"
    }
   ],
   "source": [
    "plt.figure(figsize=(20,10))\n",
    "sns.lmplot('age', 'thalach', data=data)"
   ]
  },
  {
   "cell_type": "markdown",
   "id": "e84ff06e",
   "metadata": {},
   "source": [
    "## it seems that the older you are, perhaps the smaller is maximum heart rate achieved"
   ]
  },
  {
   "cell_type": "markdown",
   "id": "8d299d5f",
   "metadata": {},
   "source": [
    "## Lets divide our data into features and target."
   ]
  },
  {
   "cell_type": "code",
   "execution_count": 584,
   "id": "6c05c17c",
   "metadata": {},
   "outputs": [],
   "source": [
    "X = data.drop('sex', axis=1)\n",
    "y = data['sex']"
   ]
  },
  {
   "cell_type": "markdown",
   "id": "d44309d3",
   "metadata": {},
   "source": [
    "## List of Methods"
   ]
  },
  {
   "cell_type": "markdown",
   "id": "249844a4",
   "metadata": {},
   "source": [
    "## We will Benchmark some models: Decision Tree, SVC, Gaussian Naive Bayes, KNN, Random Forest, Multi Layer Perceptron(Artificial Neural Network), Adaboost & GradientBoost."
   ]
  },
  {
   "cell_type": "code",
   "execution_count": 368,
   "id": "2e6f3b3f",
   "metadata": {},
   "outputs": [],
   "source": [
    "methods = [DecisionTreeClassifier(criterion='entropy', random_state=0), SVC(), GaussianNB(), KNeighborsClassifier(), \n",
    "           RandomForestClassifier(criterion='entropy', random_state=0), MLPClassifier(hidden_layer_sizes=(100,), \n",
    "                                                                                      max_iter=2000),\n",
    "           AdaBoostClassifier(n_estimators=100, random_state=0),GradientBoostingClassifier(n_estimators=100)]"
   ]
  },
  {
   "cell_type": "markdown",
   "id": "546a416e",
   "metadata": {},
   "source": [
    "## The first test is in imbalanced data."
   ]
  },
  {
   "cell_type": "markdown",
   "id": "7c54b8c5",
   "metadata": {},
   "source": [
    "## Cross-validation with 5 folds, benchmarking all methods."
   ]
  },
  {
   "cell_type": "code",
   "execution_count": 369,
   "id": "b35599f6",
   "metadata": {},
   "outputs": [
    {
     "data": {
      "text/plain": [
       "{\"DecisionTreeClassifier(criterion='entropy', random_state=0)\": 0.6402597402597403,\n",
       " 'SVC()': 0.6906493506493506,\n",
       " 'GaussianNB()': 0.7302597402597402,\n",
       " 'KNeighborsClassifier()': 0.6115584415584415,\n",
       " \"RandomForestClassifier(criterion='entropy', random_state=0)\": 0.7123376623376624,\n",
       " 'MLPClassifier(max_iter=2000)': 0.6181818181818182,\n",
       " 'AdaBoostClassifier(n_estimators=100, random_state=0)': 0.6870779220779221,\n",
       " 'GradientBoostingClassifier()': 0.7159090909090909}"
      ]
     },
     "execution_count": 369,
     "metadata": {},
     "output_type": "execute_result"
    }
   ],
   "source": [
    "Cross_Validation = {}\n",
    "for method in methods:\n",
    "    model = method\n",
    "    Cross_Validation[str(model)] = cross_val_score(model, X, y, cv=5).mean()\n",
    "Cross_Validation"
   ]
  },
  {
   "cell_type": "markdown",
   "id": "da43a93e",
   "metadata": {},
   "source": [
    "## Naive Bayes Metrics:"
   ]
  },
  {
   "cell_type": "code",
   "execution_count": 585,
   "id": "5f5625df",
   "metadata": {
    "scrolled": true
   },
   "outputs": [
    {
     "name": "stdout",
     "output_type": "stream",
     "text": [
      "Training data score:  0.7828054298642534\n",
      "Test data score:  0.7142857142857143\n",
      "Full data score:  0.7689530685920578 \n",
      "\n",
      "              precision    recall  f1-score   support\n",
      "\n",
      "           0       0.79      0.82      0.80        40\n",
      "           1       0.50      0.44      0.47        16\n",
      "\n",
      "    accuracy                           0.71        56\n",
      "   macro avg       0.64      0.63      0.64        56\n",
      "weighted avg       0.70      0.71      0.71        56\n",
      "\n"
     ]
    }
   ],
   "source": [
    "X_train, X_test, y_train, y_test = train_test_split(X, y, test_size=0.2, random_state=1)\n",
    "modeltest = GaussianNB()\n",
    "modeltest.fit(X_train, y_train)\n",
    "predict = modeltest.predict(X_test)\n",
    "print(\"Training data score: \",modeltest.score(X_train, y_train))\n",
    "print(\"Test data score: \",modeltest.score(X_test, y_test))\n",
    "print(\"Full data score: \",modeltest.score(X, y), \"\\n\")\n",
    "print(classification_report(y_test, predict))"
   ]
  },
  {
   "cell_type": "code",
   "execution_count": 552,
   "id": "b026c8d9",
   "metadata": {},
   "outputs": [
    {
     "data": {
      "text/plain": [
       "<AxesSubplot:>"
      ]
     },
     "execution_count": 552,
     "metadata": {},
     "output_type": "execute_result"
    },
    {
     "data": {
      "image/png": "[encoded data removed]",
      "text/plain": [
       "<Figure size 432x288 with 2 Axes>"
      ]
     },
     "metadata": {
      "needs_background": "light"
     },
     "output_type": "display_data"
    }
   ],
   "source": [
    "sns.heatmap(confusion_matrix(y_test, predict), annot=True)"
   ]
  },
  {
   "cell_type": "markdown",
   "id": "0e9a4a2f",
   "metadata": {},
   "source": [
    "## Scaling data to better acceptation of models"
   ]
  },
  {
   "cell_type": "code",
   "execution_count": 586,
   "id": "32deee88",
   "metadata": {},
   "outputs": [],
   "source": [
    "SS = StandardScaler()\n",
    "X = SS.fit_transform(X)"
   ]
  },
  {
   "cell_type": "code",
   "execution_count": 582,
   "id": "09f29a7e",
   "metadata": {},
   "outputs": [
    {
     "data": {
      "text/plain": [
       "{\"DecisionTreeClassifier(criterion='entropy', random_state=0)\": 0.6173376623376623,\n",
       " 'SVC()': 0.704025974025974,\n",
       " 'GaussianNB()': 0.721948051948052,\n",
       " 'KNeighborsClassifier()': 0.6643506493506494,\n",
       " \"RandomForestClassifier(criterion='entropy', random_state=0)\": 0.7149350649350649,\n",
       " 'MLPClassifier(max_iter=2000)': 0.6896103896103896,\n",
       " 'AdaBoostClassifier(n_estimators=100, random_state=0)': 0.6755194805194805,\n",
       " 'GradientBoostingClassifier()': 0.7043506493506493}"
      ]
     },
     "execution_count": 582,
     "metadata": {},
     "output_type": "execute_result"
    }
   ],
   "source": [
    "Cross_Validation2 = {}\n",
    "for method in methods:\n",
    "    model = method\n",
    "    Cross_Validation2[str(model)] = cross_val_score(model, X, y, cv=5).mean()\n",
    "Cross_Validation2"
   ]
  },
  {
   "cell_type": "markdown",
   "id": "f1941dc5",
   "metadata": {},
   "source": [
    "## Naive Bayes, Scaled Data, Metrics:"
   ]
  },
  {
   "cell_type": "code",
   "execution_count": 595,
   "id": "c438fb21",
   "metadata": {},
   "outputs": [
    {
     "name": "stdout",
     "output_type": "stream",
     "text": [
      "Training data score:  0.7737556561085973\n",
      "Test data score:  0.7142857142857143\n",
      "Full data score:  0.7617328519855595 \n",
      "\n",
      "              precision    recall  f1-score   support\n",
      "\n",
      "           0       0.79      0.82      0.80        40\n",
      "           1       0.50      0.44      0.47        16\n",
      "\n",
      "    accuracy                           0.71        56\n",
      "   macro avg       0.64      0.63      0.64        56\n",
      "weighted avg       0.70      0.71      0.71        56\n",
      "\n"
     ]
    }
   ],
   "source": [
    "X_train, X_test, y_train, y_test = train_test_split(X, y, test_size=0.2, random_state=1)\n",
    "modeltest = GaussianNB()\n",
    "modeltest.fit(X_train, y_train)\n",
    "predict = modeltest.predict(X_test)\n",
    "print(\"Training data score: \",modeltest.score(X_train, y_train))\n",
    "print(\"Test data score: \",modeltest.score(X_test, y_test))\n",
    "print(\"Full data score: \",modeltest.score(X, y), \"\\n\")\n",
    "print(classification_report(y_test, predict))"
   ]
  },
  {
   "cell_type": "code",
   "execution_count": 374,
   "id": "546e04ba",
   "metadata": {},
   "outputs": [
    {
     "data": {
      "text/plain": [
       "<AxesSubplot:>"
      ]
     },
     "execution_count": 374,
     "metadata": {},
     "output_type": "execute_result"
    },
    {
     "data": {
      "image/png": "[encoded data removed]",
      "text/plain": [
       "<Figure size 432x288 with 2 Axes>"
      ]
     },
     "metadata": {
      "needs_background": "light"
     },
     "output_type": "display_data"
    }
   ],
   "source": [
    "sns.heatmap(confusion_matrix(y_test, predict), annot=True)"
   ]
  },
  {
   "cell_type": "code",
   "execution_count": 375,
   "id": "800fdd74",
   "metadata": {},
   "outputs": [
    {
     "name": "stderr",
     "output_type": "stream",
     "text": [
      "c:\\users\\aheng\\anaconda3\\envs\\portaltelemedicina\\lib\\site-packages\\seaborn\\_decorators.py:43: FutureWarning: Pass the following variable as a keyword arg: x. From version 0.12, the only valid positional argument will be `data`, and passing other arguments without an explicit keyword will result in an error or misinterpretation.\n",
      "  FutureWarning\n"
     ]
    },
    {
     "data": {
      "text/plain": [
       "<AxesSubplot:xlabel='sex', ylabel='count'>"
      ]
     },
     "execution_count": 375,
     "metadata": {},
     "output_type": "execute_result"
    },
    {
     "data": {
      "image/png": "[encoded data removed]",
      "text/plain": [
       "<Figure size 432x288 with 1 Axes>"
      ]
     },
     "metadata": {
      "needs_background": "light"
     },
     "output_type": "display_data"
    }
   ],
   "source": [
    "sns.countplot(data['sex'])"
   ]
  },
  {
   "cell_type": "markdown",
   "id": "21487fce",
   "metadata": {},
   "source": [
    "## Now lets balance data in 2 samples, undersampling and oversampling."
   ]
  },
  {
   "cell_type": "code",
   "execution_count": 376,
   "id": "0741761a",
   "metadata": {},
   "outputs": [
    {
     "data": {
      "text/plain": [
       "0    192\n",
       "1     86\n",
       "Name: sex, dtype: int64"
      ]
     },
     "execution_count": 376,
     "metadata": {},
     "output_type": "execute_result"
    }
   ],
   "source": [
    "data['sex'].value_counts()"
   ]
  },
  {
   "cell_type": "markdown",
   "id": "7041fc36",
   "metadata": {},
   "source": [
    "## Undersampling 0(F) Values to match 1(M)"
   ]
  },
  {
   "cell_type": "code",
   "execution_count": 377,
   "id": "d771676a",
   "metadata": {},
   "outputs": [
    {
     "name": "stdout",
     "output_type": "stream",
     "text": [
      "1    86\n",
      "0    86\n",
      "Name: sex, dtype: int64\n"
     ]
    },
    {
     "name": "stderr",
     "output_type": "stream",
     "text": [
      "c:\\users\\aheng\\anaconda3\\envs\\portaltelemedicina\\lib\\site-packages\\seaborn\\_decorators.py:43: FutureWarning: Pass the following variable as a keyword arg: x. From version 0.12, the only valid positional argument will be `data`, and passing other arguments without an explicit keyword will result in an error or misinterpretation.\n",
      "  FutureWarning\n"
     ]
    },
    {
     "data": {
      "text/plain": [
       "<AxesSubplot:xlabel='sex', ylabel='count'>"
      ]
     },
     "execution_count": 377,
     "metadata": {},
     "output_type": "execute_result"
    },
    {
     "data": {
      "image/png": "[encoded data removed]",
      "text/plain": [
       "<Figure size 432x288 with 1 Axes>"
      ]
     },
     "metadata": {
      "needs_background": "light"
     },
     "output_type": "display_data"
    }
   ],
   "source": [
    "countF, countM = data['sex'].value_counts()\n",
    "classF = data[data['sex'] == 0]\n",
    "classM = data[data['sex'] == 1]\n",
    "\n",
    "classF_undersampling = classF.sample(countM)\n",
    "data_test_under = pd.concat([classF_undersampling, classM], axis=0)\n",
    "print(data_test_under['sex'].value_counts())\n",
    "sns.countplot('sex', data=data_test_under)"
   ]
  },
  {
   "cell_type": "markdown",
   "id": "643ca2b4",
   "metadata": {},
   "source": [
    "## Test using Undersampling 0(F) to 1(M)."
   ]
  },
  {
   "cell_type": "code",
   "execution_count": 378,
   "id": "83e1801d",
   "metadata": {},
   "outputs": [],
   "source": [
    "X1 = data_test_under.drop('sex', axis=1)\n",
    "y1 = data_test_under['sex']"
   ]
  },
  {
   "cell_type": "markdown",
   "id": "9597b0d0",
   "metadata": {},
   "source": [
    "## Cross-validation again, benchmarking all methods."
   ]
  },
  {
   "cell_type": "code",
   "execution_count": 379,
   "id": "03d40fb2",
   "metadata": {},
   "outputs": [
    {
     "data": {
      "text/plain": [
       "{\"DecisionTreeClassifier(criterion='entropy', random_state=0)\": 0.6045378151260504,\n",
       " 'SVC()': 0.5233613445378151,\n",
       " 'GaussianNB()': 0.6388235294117648,\n",
       " 'KNeighborsClassifier()': 0.5228571428571428,\n",
       " \"RandomForestClassifier(criterion='entropy', random_state=0)\": 0.6398319327731092,\n",
       " 'MLPClassifier(max_iter=2000)': 0.49445378151260505,\n",
       " 'AdaBoostClassifier(n_estimators=100, random_state=0)': 0.64,\n",
       " 'GradientBoostingClassifier()': 0.6398319327731092}"
      ]
     },
     "execution_count": 379,
     "metadata": {},
     "output_type": "execute_result"
    }
   ],
   "source": [
    "Cross_Validation = {}\n",
    "for method in methods:\n",
    "    model = method\n",
    "    Cross_Validation[str(model)] = cross_val_score(model, X1, y1, cv=5).mean()\n",
    "Cross_Validation"
   ]
  },
  {
   "cell_type": "markdown",
   "id": "dd595c3b",
   "metadata": {},
   "source": [
    "## RandomForest, Undersample Metrics:"
   ]
  },
  {
   "cell_type": "code",
   "execution_count": 596,
   "id": "0f895916",
   "metadata": {},
   "outputs": [
    {
     "name": "stdout",
     "output_type": "stream",
     "text": [
      "Training data score:  1.0\n",
      "Test data score:  0.7428571428571429\n",
      "Full data score:  0.8772563176895307 \n",
      "\n",
      "              precision    recall  f1-score   support\n",
      "\n",
      "           0       0.83      0.71      0.77        21\n",
      "           1       0.65      0.79      0.71        14\n",
      "\n",
      "    accuracy                           0.74        35\n",
      "   macro avg       0.74      0.75      0.74        35\n",
      "weighted avg       0.76      0.74      0.75        35\n",
      "\n"
     ]
    }
   ],
   "source": [
    "X_train, X_test, y_train, y_test = train_test_split(X1, y1, test_size=0.2, random_state=1)\n",
    "modeltest = RandomForestClassifier(criterion='entropy', random_state=0)\n",
    "modeltest.fit(X_train, y_train)\n",
    "predict = modeltest.predict(X_test)\n",
    "print(\"Training data score: \",modeltest.score(X_train, y_train))\n",
    "print(\"Test data score: \",modeltest.score(X_test, y_test))\n",
    "print(\"Full data score: \",modeltest.score(X, y), \"\\n\")\n",
    "print(classification_report(y_test, predict))"
   ]
  },
  {
   "cell_type": "markdown",
   "id": "1e23c672",
   "metadata": {},
   "source": [
    "## Lets Scale the data."
   ]
  },
  {
   "cell_type": "code",
   "execution_count": 381,
   "id": "80c0f994",
   "metadata": {},
   "outputs": [
    {
     "data": {
      "text/plain": [
       "{\"DecisionTreeClassifier(criterion='entropy', random_state=0)\": 0.6045378151260504,\n",
       " 'SVC()': 0.6278991596638656,\n",
       " 'GaussianNB()': 0.6329411764705883,\n",
       " 'KNeighborsClassifier()': 0.6563025210084035,\n",
       " \"RandomForestClassifier(criterion='entropy', random_state=0)\": 0.6398319327731092,\n",
       " 'MLPClassifier(max_iter=2000)': 0.5813445378151261,\n",
       " 'AdaBoostClassifier(n_estimators=100, random_state=0)': 0.6341176470588236,\n",
       " 'GradientBoostingClassifier()': 0.6573109243697479}"
      ]
     },
     "execution_count": 381,
     "metadata": {},
     "output_type": "execute_result"
    }
   ],
   "source": [
    "SS = StandardScaler()\n",
    "X1 = SS.fit_transform(X1)\n",
    "Cross_Validation2 = {}\n",
    "for method in methods:\n",
    "    model = method\n",
    "    Cross_Validation2[str(model)] = cross_val_score(model, X1, y1, cv=5).mean()\n",
    "Cross_Validation2"
   ]
  },
  {
   "cell_type": "markdown",
   "id": "c631cc02",
   "metadata": {},
   "source": [
    "## Some models improved, but not all, lets do more tests. Now with oversampling"
   ]
  },
  {
   "cell_type": "markdown",
   "id": "580894a2",
   "metadata": {},
   "source": [
    "## Oversampling 1(M) Values to match 1(F) - we have to be careful in using this method, it can cause overfitting."
   ]
  },
  {
   "cell_type": "code",
   "execution_count": 382,
   "id": "17841c59",
   "metadata": {},
   "outputs": [
    {
     "name": "stdout",
     "output_type": "stream",
     "text": [
      "1    192\n",
      "0    192\n",
      "Name: sex, dtype: int64\n"
     ]
    },
    {
     "name": "stderr",
     "output_type": "stream",
     "text": [
      "c:\\users\\aheng\\anaconda3\\envs\\portaltelemedicina\\lib\\site-packages\\seaborn\\_decorators.py:43: FutureWarning: Pass the following variable as a keyword arg: x. From version 0.12, the only valid positional argument will be `data`, and passing other arguments without an explicit keyword will result in an error or misinterpretation.\n",
      "  FutureWarning\n"
     ]
    },
    {
     "data": {
      "text/plain": [
       "<AxesSubplot:xlabel='sex', ylabel='count'>"
      ]
     },
     "execution_count": 382,
     "metadata": {},
     "output_type": "execute_result"
    },
    {
     "data": {
      "image/png": "[encoded data removed]",
      "text/plain": [
       "<Figure size 432x288 with 1 Axes>"
      ]
     },
     "metadata": {
      "needs_background": "light"
     },
     "output_type": "display_data"
    }
   ],
   "source": [
    "classM_oversampling = classM.sample(countF, replace=True)\n",
    "data_test_over = pd.concat([classF, classM_oversampling], axis=0)\n",
    "print(data_test_over['sex'].value_counts())\n",
    "sns.countplot('sex', data=data_test_over)"
   ]
  },
  {
   "cell_type": "markdown",
   "id": "ad1be0ce",
   "metadata": {},
   "source": [
    "## Splitting data in features and target again."
   ]
  },
  {
   "cell_type": "code",
   "execution_count": 383,
   "id": "adf51823",
   "metadata": {},
   "outputs": [],
   "source": [
    "data_test_over['chol'] = data_test_over['chol'].fillna(data_test_over['chol'].mean())\n",
    "X2 = data_test_over.drop('sex', axis=1)\n",
    "y2 = data_test_over['sex']"
   ]
  },
  {
   "cell_type": "markdown",
   "id": "82560c3a",
   "metadata": {},
   "source": [
    "## Cross-validation."
   ]
  },
  {
   "cell_type": "code",
   "execution_count": 384,
   "id": "e9d51a29",
   "metadata": {},
   "outputs": [
    {
     "data": {
      "text/plain": [
       "{\"DecisionTreeClassifier(criterion='entropy', random_state=0)\": 0.8256322624743678,\n",
       " 'SVC()': 0.5208817498291183,\n",
       " 'GaussianNB()': 0.6768967874231031,\n",
       " 'KNeighborsClassifier()': 0.6042036910457963,\n",
       " \"RandomForestClassifier(criterion='entropy', random_state=0)\": 0.8698564593301435,\n",
       " 'MLPClassifier(max_iter=2000)': 0.549419002050581,\n",
       " 'AdaBoostClassifier(n_estimators=100, random_state=0)': 0.7942925495557075,\n",
       " 'GradientBoostingClassifier()': 0.8542378673957621}"
      ]
     },
     "execution_count": 384,
     "metadata": {},
     "output_type": "execute_result"
    }
   ],
   "source": [
    "Cross_Validation_over = {}\n",
    "for method in methods:\n",
    "    model = method\n",
    "    model.fit(X2,y2)\n",
    "    Cross_Validation_over[str(model)] = cross_val_score(model, X2, y2, cv=5).mean()\n",
    "Cross_Validation_over"
   ]
  },
  {
   "cell_type": "markdown",
   "id": "3d131e60",
   "metadata": {},
   "source": [
    "## RandomForest, Oversample Metrics:"
   ]
  },
  {
   "cell_type": "code",
   "execution_count": 597,
   "id": "5c92701d",
   "metadata": {
    "scrolled": true
   },
   "outputs": [
    {
     "name": "stdout",
     "output_type": "stream",
     "text": [
      "Training data score:  1.0\n",
      "Test data score:  0.8701298701298701\n",
      "Full data score:  0.9494584837545126 \n",
      "\n",
      "              precision    recall  f1-score   support\n",
      "\n",
      "           0       0.94      0.79      0.86        39\n",
      "           1       0.82      0.95      0.88        38\n",
      "\n",
      "    accuracy                           0.87        77\n",
      "   macro avg       0.88      0.87      0.87        77\n",
      "weighted avg       0.88      0.87      0.87        77\n",
      "\n"
     ]
    }
   ],
   "source": [
    "X_train, X_test, y_train, y_test = train_test_split(X2, y2, test_size=0.2, random_state=1)\n",
    "modeltest = RandomForestClassifier(criterion='entropy', random_state=0)\n",
    "modeltest.fit(X_train, y_train)\n",
    "predict = modeltest.predict(X_test)\n",
    "print(\"Training data score: \",modeltest.score(X_train, y_train))\n",
    "print(\"Test data score: \",modeltest.score(X_test, y_test))\n",
    "print(\"Full data score: \",modeltest.score(X, y), \"\\n\")\n",
    "print(classification_report(y_test, predict))"
   ]
  },
  {
   "cell_type": "code",
   "execution_count": 387,
   "id": "5aec073c",
   "metadata": {},
   "outputs": [
    {
     "data": {
      "text/plain": [
       "<AxesSubplot:>"
      ]
     },
     "execution_count": 387,
     "metadata": {},
     "output_type": "execute_result"
    },
    {
     "data": {
      "image/png": "[encoded data removed]",
      "text/plain": [
       "<Figure size 432x288 with 2 Axes>"
      ]
     },
     "metadata": {
      "needs_background": "light"
     },
     "output_type": "display_data"
    }
   ],
   "source": [
    "sns.heatmap(confusion_matrix(y_test, predict), annot=True, )"
   ]
  },
  {
   "cell_type": "markdown",
   "id": "a52c8172",
   "metadata": {},
   "source": [
    "## Scaling data of oversampling"
   ]
  },
  {
   "cell_type": "code",
   "execution_count": 388,
   "id": "c11cd85f",
   "metadata": {},
   "outputs": [],
   "source": [
    "X2 = SS.fit_transform(X2)"
   ]
  },
  {
   "cell_type": "markdown",
   "id": "b56e7ad2",
   "metadata": {},
   "source": [
    "## Testing Again"
   ]
  },
  {
   "cell_type": "code",
   "execution_count": 389,
   "id": "635bcf8d",
   "metadata": {},
   "outputs": [
    {
     "data": {
      "text/plain": [
       "{\"DecisionTreeClassifier(criterion='entropy', random_state=0)\": 0.8256322624743678,\n",
       " 'SVC()': 0.7917293233082707,\n",
       " 'GaussianNB()': 0.6532467532467532,\n",
       " 'KNeighborsClassifier()': 0.7004101161995899,\n",
       " \"RandomForestClassifier(criterion='entropy', random_state=0)\": 0.8646616541353384,\n",
       " 'MLPClassifier(max_iter=2000)': 0.8514695830485304,\n",
       " 'AdaBoostClassifier(n_estimators=100, random_state=0)': 0.791695146958305,\n",
       " 'GradientBoostingClassifier()': 0.8516746411483254}"
      ]
     },
     "execution_count": 389,
     "metadata": {},
     "output_type": "execute_result"
    }
   ],
   "source": [
    "Cross_Validation_over = {}\n",
    "for method in methods:\n",
    "    model = method\n",
    "    model.fit(X2,y2)\n",
    "    Cross_Validation_over[str(model)] = cross_val_score(model, X2, y2, cv=5).mean()\n",
    "Cross_Validation_over"
   ]
  },
  {
   "cell_type": "markdown",
   "id": "2e9520ef",
   "metadata": {},
   "source": [
    "## Cross-validate prediction"
   ]
  },
  {
   "cell_type": "code",
   "execution_count": 390,
   "id": "2e4127a5",
   "metadata": {},
   "outputs": [
    {
     "name": "stdout",
     "output_type": "stream",
     "text": [
      "              precision    recall  f1-score   support\n",
      "\n",
      "           0       0.91      0.81      0.86       192\n",
      "           1       0.83      0.92      0.87       192\n",
      "\n",
      "    accuracy                           0.86       384\n",
      "   macro avg       0.87      0.86      0.86       384\n",
      "weighted avg       0.87      0.86      0.86       384\n",
      "\n"
     ]
    }
   ],
   "source": [
    "prediction3 = cross_val_predict(RandomForestClassifier(criterion='entropy', random_state=0), X2, y2, cv=5)\n",
    "print(classification_report(y2 ,prediction3))"
   ]
  },
  {
   "cell_type": "markdown",
   "id": "ea8d466b",
   "metadata": {},
   "source": [
    "## Oversample, Scaled data Metrics:"
   ]
  },
  {
   "cell_type": "code",
   "execution_count": 598,
   "id": "6c2ba2e2",
   "metadata": {},
   "outputs": [
    {
     "name": "stdout",
     "output_type": "stream",
     "text": [
      "Training data score:  1.0\n",
      "Test data score:  0.8701298701298701\n",
      "Full data score:  0.9494584837545126 \n",
      "\n",
      "              precision    recall  f1-score   support\n",
      "\n",
      "           0       0.94      0.79      0.86        39\n",
      "           1       0.82      0.95      0.88        38\n",
      "\n",
      "    accuracy                           0.87        77\n",
      "   macro avg       0.88      0.87      0.87        77\n",
      "weighted avg       0.88      0.87      0.87        77\n",
      "\n"
     ]
    }
   ],
   "source": [
    "X_train, X_test, y_train, y_test = train_test_split(X2, y2, test_size=0.2, random_state=1)\n",
    "modeltest = RandomForestClassifier(criterion='entropy', random_state=0)\n",
    "modeltest.fit(X_train, y_train)\n",
    "predict2 = modeltest.predict(X_test)\n",
    "print(\"Training data score: \",modeltest.score(X_train, y_train))\n",
    "print(\"Test data score: \",modeltest.score(X_test, y_test))\n",
    "print(\"Full data score: \",modeltest.score(X, y), \"\\n\")\n",
    "print(classification_report(y_test, predict2))"
   ]
  },
  {
   "cell_type": "code",
   "execution_count": 392,
   "id": "8d8299e4",
   "metadata": {
    "scrolled": true
   },
   "outputs": [
    {
     "data": {
      "text/plain": [
       "<AxesSubplot:>"
      ]
     },
     "execution_count": 392,
     "metadata": {},
     "output_type": "execute_result"
    },
    {
     "data": {
      "image/png": "[encoded data removed]",
      "text/plain": [
       "<Figure size 432x288 with 2 Axes>"
      ]
     },
     "metadata": {
      "needs_background": "light"
     },
     "output_type": "display_data"
    }
   ],
   "source": [
    "sns.heatmap(confusion_matrix(y_test ,predict2), annot=True)"
   ]
  },
  {
   "cell_type": "markdown",
   "id": "51d46ea3",
   "metadata": {},
   "source": [
    "## The better results we have is  Oversampling without scalling with > 0.85 accuracy, But it is dangerous to use this method as it can overfitting in  new data "
   ]
  },
  {
   "cell_type": "markdown",
   "id": "e033e1cd",
   "metadata": {},
   "source": [
    "## Lets see that dividing the original dataset by half."
   ]
  },
  {
   "cell_type": "code",
   "execution_count": 607,
   "id": "e7661c12",
   "metadata": {},
   "outputs": [
    {
     "name": "stdout",
     "output_type": "stream",
     "text": [
      "1    98\n",
      "0    98\n",
      "Name: sex, dtype: int64\n"
     ]
    },
    {
     "name": "stderr",
     "output_type": "stream",
     "text": [
      "c:\\users\\aheng\\anaconda3\\envs\\portaltelemedicina\\lib\\site-packages\\seaborn\\_decorators.py:43: FutureWarning: Pass the following variable as a keyword arg: x. From version 0.12, the only valid positional argument will be `data`, and passing other arguments without an explicit keyword will result in an error or misinterpretation.\n",
      "  FutureWarning\n"
     ]
    },
    {
     "data": {
      "text/plain": [
       "<AxesSubplot:xlabel='sex', ylabel='count'>"
      ]
     },
     "execution_count": 607,
     "metadata": {},
     "output_type": "execute_result"
    },
    {
     "data": {
      "image/png": "[encoded data removed]",
      "text/plain": [
       "<Figure size 432x288 with 1 Axes>"
      ]
     },
     "metadata": {
      "needs_background": "light"
     },
     "output_type": "display_data"
    }
   ],
   "source": [
    "X_ = data.sample(140, replace=True)\n",
    "X_['sex'].value_counts()\n",
    "## Dataset now have only 140 rows\n",
    "\n",
    "countF, countM = X_['sex'].value_counts()\n",
    "classF = X_[X_['sex'] == 0]\n",
    "classM = X_[X_['sex'] == 1]\n",
    "#Oversampling again.\n",
    "classM_oversampling = classM.sample(countF, replace=True)\n",
    "data_test_over = pd.concat([classF, classM_oversampling], axis=0)\n",
    "print(data_test_over['sex'].value_counts())\n",
    "sns.countplot('sex', data=data_test_over)\n"
   ]
  },
  {
   "cell_type": "markdown",
   "id": "c0a1713d",
   "metadata": {},
   "source": [
    "## All tests again"
   ]
  },
  {
   "cell_type": "code",
   "execution_count": 608,
   "id": "e2ef1b4a",
   "metadata": {},
   "outputs": [],
   "source": [
    "y_ = X_['sex']\n",
    "X_ = X_.drop('sex', axis=1)"
   ]
  },
  {
   "cell_type": "code",
   "execution_count": 395,
   "id": "d07e0034",
   "metadata": {},
   "outputs": [
    {
     "data": {
      "text/plain": [
       "{\"DecisionTreeClassifier(criterion='entropy', random_state=0)\": 0.7214285714285714,\n",
       " 'SVC()': 0.6857142857142857,\n",
       " 'GaussianNB()': 0.7071428571428571,\n",
       " 'KNeighborsClassifier()': 0.6214285714285714,\n",
       " \"RandomForestClassifier(criterion='entropy', random_state=0)\": 0.8,\n",
       " 'MLPClassifier(max_iter=2000)': 0.6714285714285714,\n",
       " 'AdaBoostClassifier(n_estimators=100, random_state=0)': 0.7928571428571429,\n",
       " 'GradientBoostingClassifier()': 0.7571428571428571}"
      ]
     },
     "execution_count": 395,
     "metadata": {},
     "output_type": "execute_result"
    }
   ],
   "source": [
    "Cross_Validation_over = {}\n",
    "for method in methods:\n",
    "    model = method\n",
    "    model.fit(X_,y_)\n",
    "    Cross_Validation_over[str(model)] = cross_val_score(model, X_, y_, cv=5).mean()\n",
    "Cross_Validation_over"
   ]
  },
  {
   "cell_type": "code",
   "execution_count": 610,
   "id": "2d0de396",
   "metadata": {},
   "outputs": [
    {
     "name": "stdout",
     "output_type": "stream",
     "text": [
      "Training data score:  1.0\n",
      "Test data score:  0.8571428571428571\n",
      "Full data score:  0.6931407942238267 \n",
      "\n"
     ]
    }
   ],
   "source": [
    "X_train, X_test, y_train, y_test = train_test_split(X_, y_, test_size=0.2, random_state=1)\n",
    "modeltest = RandomForestClassifier(criterion='entropy', random_state=0)\n",
    "modeltest.fit(X_train, y_train)\n",
    "predict = modeltest.predict(X_test)\n",
    "print(\"Training data score: \",modeltest.score(X_train, y_train))\n",
    "print(\"Test data score: \",modeltest.score(X_test, y_test))\n",
    "print(\"Full data score: \",modeltest.score(X, y), \"\\n\")"
   ]
  },
  {
   "cell_type": "markdown",
   "id": "cd2e07bb",
   "metadata": {},
   "source": [
    "## As we can see, the score of the full data has dropped a lot. due to having new data in it"
   ]
  },
  {
   "cell_type": "markdown",
   "id": "e65ead14",
   "metadata": {},
   "source": [
    "## Testing GridSearchCV - hyperparameter tuning for random forest"
   ]
  },
  {
   "cell_type": "code",
   "execution_count": 398,
   "id": "fa184981",
   "metadata": {},
   "outputs": [],
   "source": [
    "from sklearn.model_selection import GridSearchCV\n",
    "# Creating parameter grid based on the results of random search \n",
    "param_grid = {\n",
    "    'bootstrap': [True],\n",
    "    'max_depth': [80, 90, 100, 110],\n",
    "    'max_features': [2, 3],\n",
    "    'min_samples_leaf': [3, 4, 5],\n",
    "    'min_samples_split': [8, 10, 12],\n",
    "    'n_estimators': [100, 200, 300, 1000],\n",
    "    'criterion' : ['entropy']\n",
    "}\n",
    "# Create a based model\n",
    "rf = RandomForestClassifier()\n",
    "# Instantiate the grid search model\n",
    "grid_search = GridSearchCV(estimator = rf, param_grid = param_grid, \n",
    "                          cv = 3, n_jobs = -1, verbose = 2)"
   ]
  },
  {
   "cell_type": "code",
   "execution_count": 399,
   "id": "0df317ac",
   "metadata": {},
   "outputs": [
    {
     "name": "stdout",
     "output_type": "stream",
     "text": [
      "Fitting 3 folds for each of 288 candidates, totalling 864 fits\n"
     ]
    },
    {
     "data": {
      "text/plain": [
       "GridSearchCV(cv=3, estimator=RandomForestClassifier(), n_jobs=-1,\n",
       "             param_grid={'bootstrap': [True], 'criterion': ['entropy'],\n",
       "                         'max_depth': [80, 90, 100, 110],\n",
       "                         'max_features': [2, 3], 'min_samples_leaf': [3, 4, 5],\n",
       "                         'min_samples_split': [8, 10, 12],\n",
       "                         'n_estimators': [100, 200, 300, 1000]},\n",
       "             verbose=2)"
      ]
     },
     "execution_count": 399,
     "metadata": {},
     "output_type": "execute_result"
    }
   ],
   "source": [
    "grid_search.fit(X, y)"
   ]
  },
  {
   "cell_type": "markdown",
   "id": "af53ac4e",
   "metadata": {},
   "source": [
    "## Looking at the best parameters."
   ]
  },
  {
   "cell_type": "code",
   "execution_count": 400,
   "id": "ef3fbe94",
   "metadata": {},
   "outputs": [
    {
     "data": {
      "text/plain": [
       "{'bootstrap': True,\n",
       " 'criterion': 'entropy',\n",
       " 'max_depth': 90,\n",
       " 'max_features': 3,\n",
       " 'min_samples_leaf': 4,\n",
       " 'min_samples_split': 8,\n",
       " 'n_estimators': 200}"
      ]
     },
     "execution_count": 400,
     "metadata": {},
     "output_type": "execute_result"
    }
   ],
   "source": [
    "grid_search.best_params_"
   ]
  },
  {
   "cell_type": "code",
   "execution_count": 401,
   "id": "f5caf199",
   "metadata": {},
   "outputs": [
    {
     "data": {
      "text/plain": [
       "RandomForestClassifier(criterion='entropy', max_depth=90, max_features=3,\n",
       "                       min_samples_leaf=4, min_samples_split=8,\n",
       "                       n_estimators=200)"
      ]
     },
     "execution_count": 401,
     "metadata": {},
     "output_type": "execute_result"
    }
   ],
   "source": [
    "best_grid = grid_search.best_estimator_\n",
    "best_grid"
   ]
  },
  {
   "cell_type": "markdown",
   "id": "ad31d103",
   "metadata": {},
   "source": [
    "## Evaluating random forest with best parameters."
   ]
  },
  {
   "cell_type": "code",
   "execution_count": 406,
   "id": "598e3fe0",
   "metadata": {},
   "outputs": [
    {
     "name": "stdout",
     "output_type": "stream",
     "text": [
      "score:  [0.67857143 0.73214286 0.66071429 0.76363636 0.70909091] \n",
      "\n",
      "              precision    recall  f1-score   support\n",
      "\n",
      "           0       0.75      0.89      0.81       192\n",
      "           1       0.58      0.35      0.43        86\n",
      "\n",
      "    accuracy                           0.72       278\n",
      "   macro avg       0.66      0.62      0.62       278\n",
      "weighted avg       0.70      0.72      0.70       278\n",
      "\n"
     ]
    },
    {
     "data": {
      "text/plain": [
       "<AxesSubplot:>"
      ]
     },
     "execution_count": 406,
     "metadata": {},
     "output_type": "execute_result"
    },
    {
     "data": {
      "image/png": "[encoded data removed]",
      "text/plain": [
       "<Figure size 432x288 with 2 Axes>"
      ]
     },
     "metadata": {
      "needs_background": "light"
     },
     "output_type": "display_data"
    }
   ],
   "source": [
    "firstpredict = cross_val_predict(best_grid, X, y, cv=5)\n",
    "print(\"score: \" , cross_val_score(best_grid, X, y, cv=5), \"\\n\")\n",
    "print(classification_report(y, firstpredict))\n",
    "sns.heatmap(confusion_matrix(y, firstpredict), annot=True)"
   ]
  },
  {
   "cell_type": "markdown",
   "id": "ac816eec",
   "metadata": {},
   "source": [
    "## Gaussian Naive Bayes still the better classificator."
   ]
  },
  {
   "cell_type": "markdown",
   "id": "4599f1a3",
   "metadata": {},
   "source": [
    "# ---------------------------------------------------------------------------------------------------------------"
   ]
  },
  {
   "cell_type": "markdown",
   "id": "f6bdf33a",
   "metadata": {},
   "source": [
    "## Final Explanation: the model choosed is Gaussian Naive Bayes due to better results in test data, the model uses a table of probabilities to generate the result"
   ]
  },
  {
   "attachments": {
    "image.png": {
     "image/png": "[encoded data removed]"
    }
   },
   "cell_type": "markdown",
   "id": "483fb823",
   "metadata": {},
   "source": [
    "![image.png](attachment:image.png)"
   ]
  },
  {
   "cell_type": "code",
   "execution_count": 397,
   "id": "1a19bce8",
   "metadata": {},
   "outputs": [
    {
     "name": "stdout",
     "output_type": "stream",
     "text": [
      "score:  [0.73214286 0.73214286 0.71428571 0.76363636 0.70909091] \n",
      "\n",
      "              precision    recall  f1-score   support\n",
      "\n",
      "           0       0.76      0.88      0.82       192\n",
      "           1       0.60      0.40      0.48        86\n",
      "\n",
      "    accuracy                           0.73       278\n",
      "   macro avg       0.68      0.64      0.65       278\n",
      "weighted avg       0.71      0.73      0.71       278\n",
      "\n"
     ]
    },
    {
     "data": {
      "text/plain": [
       "<AxesSubplot:>"
      ]
     },
     "execution_count": 397,
     "metadata": {},
     "output_type": "execute_result"
    },
    {
     "data": {
      "image/png": "[encoded data removed]",
      "text/plain": [
       "<Figure size 432x288 with 2 Axes>"
      ]
     },
     "metadata": {
      "needs_background": "light"
     },
     "output_type": "display_data"
    }
   ],
   "source": [
    "X = data.drop('sex', axis=1)\n",
    "y = data['sex']\n",
    "firstpredict = cross_val_predict(GaussianNB(), X, y, cv=5)\n",
    "print(\"score: \" , cross_val_score(GaussianNB(), X, y, cv=5), \"\\n\")\n",
    "print(classification_report(y, firstpredict))\n",
    "sns.heatmap(confusion_matrix(y, firstpredict), annot=True)"
   ]
  },
  {
   "cell_type": "code",
   "execution_count": null,
   "id": "2d894041",
   "metadata": {},
   "outputs": [],
   "source": []
  }
 ],
 "metadata": {
  "kernelspec": {
   "display_name": "Python 3",
   "language": "python",
   "name": "python3"
  },
  "language_info": {
   "codemirror_mode": {
    "name": "ipython",
    "version": 3
   },
   "file_extension": ".py",
   "mimetype": "text/x-python",
   "name": "python",
   "nbconvert_exporter": "python",
   "pygments_lexer": "ipython3",
   "version": "3.6.13"
  }
 },
 "nbformat": 4,
 "nbformat_minor": 5
}
